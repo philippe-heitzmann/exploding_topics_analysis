{
 "cells": [
  {
   "cell_type": "markdown",
   "id": "d22da938-493b-427c-a65e-b86d051a4f06",
   "metadata": {},
   "source": [
    "# Exploding Topics API - News and Politics Trending Topics Analysis\n"
   ]
  },
  {
   "cell_type": "code",
   "execution_count": 19,
   "id": "c1118891-f433-4ee7-90f2-c742078fda27",
   "metadata": {
    "scrolled": true
   },
   "outputs": [],
   "source": [
    "\n",
    "# Step 1: Import necessary libraries\n",
    "import requests\n",
    "import pandas as pd\n",
    "\n",
    "# Step 2: Set up the API call\n",
    "\n",
    "# Define the function to retrieve topics related to politics and general news\n",
    "def get_trending_news_topics(keyword, limit: int = 1):\n",
    "    \"\"\"\n",
    "    Fetches trending topics related to politics, general news, and media\n",
    "    using the Exploding Topics API.\n",
    "    \n",
    "    Parameters:\n",
    "        api_key (str): Your API key for the Exploding Topics API.\n",
    "        \n",
    "    Returns:\n",
    "        dict: JSON response with the list of relevant topics if successful,\n",
    "              None otherwise.\n",
    "    \"\"\"\n",
    "    # Set up the API URL\n",
    "    url = \"https://api.explodingtopics.com/api/v1/topics\"\n",
    "    \n",
    "    # Define query parameters for trending news-related topics\n",
    "    params = {\n",
    "        \"api_key\": api_key,\n",
    "        \"categories\": [keyword],  # Relevant news categories\n",
    "        \"type\": \"exploding\",  # Filter for trending (exploding) topics\n",
    "        \"sort\": \"growth\",  # Sort by growth to focus on fast-growing topics\n",
    "        \"timeframe\": 6,  # Last 6 months for relevance\n",
    "        \"limit\": limit,  # Retrieve 10 results\n",
    "    }\n",
    "    \n",
    "    \n",
    "    # Make the API request\n",
    "    response = requests.get(url, params=params)\n",
    "    \n",
    "    # Check if the request was successful\n",
    "    if response.status_code == 200:\n",
    "        return response.json()\n",
    "    else:\n",
    "        print(f\"Error: {response.status_code}\")\n",
    "        print(response.text)\n",
    "        return None"
   ]
  },
  {
   "cell_type": "code",
   "execution_count": null,
   "id": "3c5aa0a4-f51c-43ad-b3a7-a7c90f69f47b",
   "metadata": {},
   "outputs": [],
   "source": [
    "# Step 3: Define your API Key and Make the API Call\n",
    "# Replace 'YOUR_API_KEY' with your actual API key.\n",
    "k = \"business\"\n",
    "# Get trending news topics\n",
    "news_topics_data = get_trending_news_topics(\"business\", limit = 10)"
   ]
  },
  {
   "cell_type": "code",
   "execution_count": 14,
   "id": "c8b6c6d6-991c-4a18-bfa6-9f3a47e85779",
   "metadata": {},
   "outputs": [
    {
     "name": "stdout",
     "output_type": "stream",
     "text": [
      "100\n"
     ]
    }
   ],
   "source": [
    "print(len(news_topics_data['result']))"
   ]
  },
  {
   "cell_type": "markdown",
   "id": "18132ded-f7cb-4a2b-96b0-e7786888cf54",
   "metadata": {},
   "source": [
    "### Checking what kind of keywords are collected by Exploding Topics results"
   ]
  },
  {
   "cell_type": "code",
   "execution_count": 21,
   "id": "7b5cb83b-b8b7-4d41-81d4-b55aecd3ca1b",
   "metadata": {},
   "outputs": [
    {
     "name": "stdout",
     "output_type": "stream",
     "text": [
      "Trying business keyword...\n",
      "50\n",
      "['Gradient descent', 'Proof of impact', 'Thinkific', 'songmics', 'Dark social', 'Disruptive innovation', 'Ekart Logistics', 'Machine eye', 'Machine learning engineer', 'Machine to Machine Economy', 'Picsil', 'Smartish', 'noticeboard', 'Byoma', 'Crumpler', 'Customer success', 'Equipment as a service', 'Katkin', 'Knowledge culture', 'Premiata', 'Rocket Lab', 'The Period Company', 'Adyen', 'Attentive', 'Data infrastructure', 'NotCo', 'Reedsy', 'Remote healthcare', 'The fed', 'mybacs', 'roasters', 'By humankind', 'Deribit', 'Freightcom', 'Hines', 'Novel', 'Product trends', 'Rezi ai', 'Social justice', 'The Folklore', 'Thermal printer', 'Biznext', 'Figure', 'Fleetio', 'Getresponse', 'Product strategy', 'Synthetic data', 'Truenas', 'prose', 'Current Bank']\n",
      "Trying social media keyword...\n",
      "0\n",
      "[]\n",
      "Trying media keyword...\n",
      "50\n",
      "['linearity', 'Twitch.tv', 'Color gradient', 'Midjourney', 'Novel', 'Photopea', 'Gender identity ', 'Jogo', 'mprt', 'Pixellab', 'Great question', 'PocketBook', 'Wrapbook', 'Kaltura', 'Watch2gether', 'Ai logo generator', 'Digital art', 'Vidnoz ai', 'fark', 'womt', 'Denon dj', 'LoyalFans', 'Deepfake detection', 'Radarr', 'itchio', 'Thumbnail', 'Youtube join', 'FireCut', 'infotainment', 'Ai music', 'Aiva', 'Video captions', 'Soundraw', 'jellyfin', 'Drone pilot', 'Webp', 'Collab house', 'Ai image enhancer', 'Ai video enhancer', 'Pica ai', 'Telegram channel', 'Glasp', 'Synthesia ai', 'Restream', 'Ai girlfriend', 'Guesser', 'Rephrase Ai', 'Ai video editor', 'Earbuds App', 'Artlist']\n",
      "Trying workplace keyword...\n",
      "50\n",
      "['noticeboard', 'Knowledge culture', 'Remote healthcare', 'Thermal printer', 'Account Executive', 'Contingent worker', 'Responsible ai', 'Care work', 'Cybersecurity jobs', 'Sick leave', 'Wunderflats', 'Neurodiversity', 'Volatility, uncertainty, complexity and ambiguity', 'Drawing Pad', 'Note-taking app', 'Skillup', 'monday.com', 'wonsulting', 'ClickHouse', 'Jobspresso', 'Nomadlist', 'daysmart', 'Engage your team', 'All in one task management', 'Panopto', 'Team ai', 'Work AI', 'Tapcheck', 'Online whiteboard', 'Qwick', 'AhaSlides', 'Gamified learning', 'Virtual job fair', 'Pace Scheduler', 'Insider threat', 'Notta', 'Ergear', 'Fathom ai', 'Otter ai', 'remnote', 'Glean ai', 'Continuous performance management', 'Attio', 'Bridgit', 'Coachhub', 'Vevox', 'gridfinity', 'Sana Labs', '6-in-1 Charging Station', 'Peoplease LLC']\n",
      "Trying finance keyword...\n",
      "50\n",
      "['Gradient descent', 'Proof of impact', 'Machine learning engineer', 'Adyen', 'The fed', 'Deribit', 'Biznext', 'Synthetic data', 'Current Bank', 'Divido', 'Zelle', 'Steadily', 'Hopr', 'Quest Ce', 'YubiKey', 'Rippling', 'cat token', 'Flywire', 'Hybrid cloud', 'Monetization', 'Wrapbook', 'Data as a product', 'Data privacy', 'Data visualization', 'Klarna', 'PrivyID', 'Investire', 'scammer', 'Remitly', 'CowryWise', 'FAANG', 'Passwordless authentication', 'Trupanion', 'monday.com', 'upi', 'Ai software', 'Chime', 'Pionex', 'paynow', 'Devoted Health', 'Ai framework', 'Tether', 'mmt', 'Autofarm', 'Bitcoin gold', 'Oasis network', 'Ai analytics', 'rmd', 'InfinitePay', 'Squarepoint Capital']\n",
      "Trying industry keyword...\n",
      "50\n",
      "['Deeper', 'Gradient descent', 'Proof of impact', 'allergen', 'songmics', 'Ekart Logistics', 'Machine eye', 'Machine learning engineer', 'Machine to Machine Economy', 'Smartish', 'noticeboard', 'Crumpler', 'Equipment as a service', 'Rocket Lab', 'Soy protein', 'hydrogel', 'peptides', 'Baige', 'Color gradient', 'Data infrastructure', 'Mushroom table', 'Reedsy', 'roasters', 'Novel', 'Psychological trauma', 'The Folklore', 'Adjustable spanner', 'Net zero', 'Photopea', 'Trauma counselling', 'Premium pricing', 'Autel', 'Child Trauma', 'Contingent worker', 'Fellow Products', 'Psyllium', 'Sourcewell', 'Effective microorganisms', 'Air dry clay', 'Base coat', 'Gut brain axis', 'Repatriation', 'Slat wall panel', 'veracity', 'Business intelligence', 'Circular economy', 'Insulin pen', 'Klein tools', 'Leatherman', 'Milling']\n",
      "Trying travel keyword...\n",
      "24\n",
      "['Xiaolongbao', 'Repatriation', 'Trail running', 'Sustainable hospitality', 'Around ai', 'Nomadlist', 'Hanfu', 'meshtastic', 'PickYourTrail', 'Roame travel', 'Weighted eye mask', '4k smart projector', '3 in 1 charger', 'Portable tire inflator', 'Translator earbuds', 'Toothpaste tablets', 'Shoe dryer', 'Mini karaoke machine', 'snowit', 'Sustainable business travel', 'Singlefile Wines', ' Translation Wireless headphones', 'Sino-Korean vocabulary', 'Skratch world']\n",
      "Trying education keyword...\n",
      "50\n",
      "['Machine learning engineer', 'noticeboard', 'Knowledge culture', 'innermost', 'Novel', 'Social justice', 'Figure', 'Digital literacy', 'Gender identity ', 'Child Trauma', 'Bimbel online', 'Great question', 'Repatriation', 'veracity', 'Samegoal', 'PocketBook', 'Neurodiversity', 'Springboard', 'lilygo', 'ScratchJr', 'empathetic', 'Adhd coach', 'Skillup', 'strix', 'Common good', 'Embody', 'Beereaders', 'ORCID', 'TalkPal', 'Labster', 'meshtastic', 'tutorme', 'Cramly ai', 'Linkedin ads', 'Quizizz', 'Boddle', 'self-concept', 'Education copilot', 'Acoustic panel', 'AI Library', 'Fediverse', 'typesy', 'Asr prayer', 'Curipod', 'Online whiteboard', 'Ar drawing', 'Slumberkins', 'Computational thinking', 'Deconstruct', 'Novakid']\n",
      "Trying entertainment keyword...\n",
      "50\n",
      "['Picsil', 'My Figurine', 'Twitch.tv', 'Baige', 'Color gradient', 'Novel', 'Figure', 'Gender identity ', 'mprt', 'Pixellab', 'AKKO', 'sanabul', 'Air dry clay', 'Backloggd', 'Oddspedia', 'Trail running', 'Monetization', 'PocketBook', 'Wrapbook', 'Mister FPGA', 'Watch2gether', 'Frequency healing', 'Siux padel', 'pcvr', 'Digital art', 'Vidnoz ai', 'fark', 'womt', 'Denon dj', 'LoyalFans', 'Radarr', 'itchio', 'steamdeck', 'Youtube join', 'FireCut', 'infotainment', 'Ai music', 'Aiva', 'Adhd toy', 'Hanfu', 'Video captions', 'Gamers outlet', 'Soundraw', 'jellyfin', 'Drone pilot', 'Amigurumi', 'Collab house', 'DualShock', 'ryzen', 'Ai video enhancer']\n"
     ]
    }
   ],
   "source": [
    "keywords_to_try = [\"business\",\"social-media\", \"media\",\"workplace\",\"finance\",\"industry\",\"travel\",\"education\",\"entertainment\"]\n",
    "for keyword in keywords_to_try:\n",
    "    print(f\"Trying {keyword} keyword...\")\n",
    "    news_topics_data = get_trending_news_topics(keyword, limit=50)\n",
    "    keywords = [x['keyword'] for x in news_topics_data['result']]\n",
    "    print(len(keywords))\n",
    "    print(keywords)"
   ]
  },
  {
   "cell_type": "markdown",
   "id": "adab488f-bb4d-46a1-9a47-676835dd04d1",
   "metadata": {},
   "source": [
    "### Takeaway: keywords not very usable\n",
    "\n",
    "After testing the Exploding Topics API, it's evident that the keywords retrieved are generally optimized for identifying rapidly growing trends but may not align well with the needs of an online publishing news organization.\n",
    "\n",
    "While Exploding Topics does a good job surfacing popular emerging keywords, its focus is largely on broad market and industry shifts, such as products, startup trends, and technology categories, rather than the nuanced, topical, and long-tailed queries often sought by news outlets.\n",
    "\n",
    "Therefore look for other tools that may provide more nuanced long-tailed search trends queries...\n",
    "\n"
   ]
  },
  {
   "cell_type": "code",
   "execution_count": null,
   "id": "833cb296-7593-4f67-93c9-07cfa76487ce",
   "metadata": {},
   "outputs": [],
   "source": []
  },
  {
   "cell_type": "code",
   "execution_count": null,
   "id": "e561b6fb-aeaa-46e2-9fbb-ff2a7f3a92a2",
   "metadata": {},
   "outputs": [],
   "source": []
  }
 ],
 "metadata": {
  "kernelspec": {
   "display_name": "Python 3 (ipykernel)",
   "language": "python",
   "name": "python3"
  },
  "language_info": {
   "codemirror_mode": {
    "name": "ipython",
    "version": 3
   },
   "file_extension": ".py",
   "mimetype": "text/x-python",
   "name": "python",
   "nbconvert_exporter": "python",
   "pygments_lexer": "ipython3",
   "version": "3.9.20"
  }
 },
 "nbformat": 4,
 "nbformat_minor": 5
}
